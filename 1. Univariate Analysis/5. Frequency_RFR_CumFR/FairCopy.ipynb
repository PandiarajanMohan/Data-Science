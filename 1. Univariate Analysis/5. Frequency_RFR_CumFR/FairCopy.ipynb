{
 "cells": [
  {
   "cell_type": "code",
   "execution_count": 1,
   "id": "e50e4593-6c5b-4f91-8038-2c53d475f581",
   "metadata": {},
   "outputs": [],
   "source": [
    "from univariate import univariate\n",
    "import pandas as pd\n",
    "import numpy as np"
   ]
  },
  {
   "cell_type": "code",
   "execution_count": 2,
   "id": "37d340fb-a248-4c66-bd9d-af08f2223c79",
   "metadata": {},
   "outputs": [],
   "source": [
    "dataset=pd.read_csv(\"Placement.csv\")"
   ]
  },
  {
   "cell_type": "code",
   "execution_count": 3,
   "id": "c1d115fc-0ca2-4b4b-9fce-be2cd9488537",
   "metadata": {},
   "outputs": [],
   "source": [
    "quan,qual=univariate.quanqual(dataset)"
   ]
  },
  {
   "cell_type": "code",
   "execution_count": 4,
   "id": "cd7c6b79-0a2f-4487-8e16-c4a7a5603cc8",
   "metadata": {},
   "outputs": [
    {
     "data": {
      "text/plain": [
       "['sl_no', 'ssc_p', 'hsc_p', 'degree_p', 'etest_p', 'mba_p', 'salary']"
      ]
     },
     "execution_count": 4,
     "metadata": {},
     "output_type": "execute_result"
    }
   ],
   "source": [
    "quan"
   ]
  },
  {
   "cell_type": "code",
   "execution_count": 5,
   "id": "2308f7fa-4c5d-4acc-9f23-71ee43e397d6",
   "metadata": {},
   "outputs": [
    {
     "data": {
      "text/plain": [
       "['gender',\n",
       " 'ssc_b',\n",
       " 'hsc_b',\n",
       " 'hsc_s',\n",
       " 'degree_t',\n",
       " 'workex',\n",
       " 'specialisation',\n",
       " 'status']"
      ]
     },
     "execution_count": 5,
     "metadata": {},
     "output_type": "execute_result"
    }
   ],
   "source": [
    "qual"
   ]
  },
  {
   "cell_type": "code",
   "execution_count": 6,
   "id": "820339b6-b847-4359-971c-1a8b9f32d9db",
   "metadata": {},
   "outputs": [
    {
     "data": {
      "text/html": [
       "<div>\n",
       "<style scoped>\n",
       "    .dataframe tbody tr th:only-of-type {\n",
       "        vertical-align: middle;\n",
       "    }\n",
       "\n",
       "    .dataframe tbody tr th {\n",
       "        vertical-align: top;\n",
       "    }\n",
       "\n",
       "    .dataframe thead th {\n",
       "        text-align: right;\n",
       "    }\n",
       "</style>\n",
       "<table border=\"1\" class=\"dataframe\">\n",
       "  <thead>\n",
       "    <tr style=\"text-align: right;\">\n",
       "      <th></th>\n",
       "      <th>Unique_values</th>\n",
       "      <th>frequency</th>\n",
       "      <th>relative_frequency</th>\n",
       "      <th>cum_rel_frequency</th>\n",
       "    </tr>\n",
       "  </thead>\n",
       "  <tbody>\n",
       "    <tr>\n",
       "      <th>0</th>\n",
       "      <td>62.00</td>\n",
       "      <td>11</td>\n",
       "      <td>0.106796</td>\n",
       "      <td>0.106796</td>\n",
       "    </tr>\n",
       "    <tr>\n",
       "      <th>1</th>\n",
       "      <td>63.00</td>\n",
       "      <td>10</td>\n",
       "      <td>0.097087</td>\n",
       "      <td>0.203883</td>\n",
       "    </tr>\n",
       "    <tr>\n",
       "      <th>2</th>\n",
       "      <td>67.00</td>\n",
       "      <td>9</td>\n",
       "      <td>0.087379</td>\n",
       "      <td>0.291262</td>\n",
       "    </tr>\n",
       "    <tr>\n",
       "      <th>3</th>\n",
       "      <td>73.00</td>\n",
       "      <td>9</td>\n",
       "      <td>0.087379</td>\n",
       "      <td>0.378641</td>\n",
       "    </tr>\n",
       "    <tr>\n",
       "      <th>4</th>\n",
       "      <td>52.00</td>\n",
       "      <td>9</td>\n",
       "      <td>0.087379</td>\n",
       "      <td>0.466019</td>\n",
       "    </tr>\n",
       "    <tr>\n",
       "      <th>...</th>\n",
       "      <td>...</td>\n",
       "      <td>...</td>\n",
       "      <td>...</td>\n",
       "      <td>...</td>\n",
       "    </tr>\n",
       "    <tr>\n",
       "      <th>98</th>\n",
       "      <td>55.68</td>\n",
       "      <td>1</td>\n",
       "      <td>0.009709</td>\n",
       "      <td>2.048544</td>\n",
       "    </tr>\n",
       "    <tr>\n",
       "      <th>99</th>\n",
       "      <td>41.00</td>\n",
       "      <td>1</td>\n",
       "      <td>0.009709</td>\n",
       "      <td>2.058252</td>\n",
       "    </tr>\n",
       "    <tr>\n",
       "      <th>100</th>\n",
       "      <td>83.33</td>\n",
       "      <td>1</td>\n",
       "      <td>0.009709</td>\n",
       "      <td>2.067961</td>\n",
       "    </tr>\n",
       "    <tr>\n",
       "      <th>101</th>\n",
       "      <td>43.00</td>\n",
       "      <td>1</td>\n",
       "      <td>0.009709</td>\n",
       "      <td>2.077670</td>\n",
       "    </tr>\n",
       "    <tr>\n",
       "      <th>102</th>\n",
       "      <td>80.60</td>\n",
       "      <td>1</td>\n",
       "      <td>0.009709</td>\n",
       "      <td>2.087379</td>\n",
       "    </tr>\n",
       "  </tbody>\n",
       "</table>\n",
       "<p>103 rows × 4 columns</p>\n",
       "</div>"
      ],
      "text/plain": [
       "     Unique_values  frequency  relative_frequency  cum_rel_frequency\n",
       "0            62.00         11            0.106796           0.106796\n",
       "1            63.00         10            0.097087           0.203883\n",
       "2            67.00          9            0.087379           0.291262\n",
       "3            73.00          9            0.087379           0.378641\n",
       "4            52.00          9            0.087379           0.466019\n",
       "..             ...        ...                 ...                ...\n",
       "98           55.68          1            0.009709           2.048544\n",
       "99           41.00          1            0.009709           2.058252\n",
       "100          83.33          1            0.009709           2.067961\n",
       "101          43.00          1            0.009709           2.077670\n",
       "102          80.60          1            0.009709           2.087379\n",
       "\n",
       "[103 rows x 4 columns]"
      ]
     },
     "execution_count": 6,
     "metadata": {},
     "output_type": "execute_result"
    }
   ],
   "source": [
    "univariate.frequencyTable(dataset,'ssc_p')"
   ]
  },
  {
   "cell_type": "code",
   "execution_count": 7,
   "id": "86ff8d11-5634-4bf8-9fd0-f52e3b2307b8",
   "metadata": {},
   "outputs": [
    {
     "data": {
      "text/html": [
       "<div>\n",
       "<style scoped>\n",
       "    .dataframe tbody tr th:only-of-type {\n",
       "        vertical-align: middle;\n",
       "    }\n",
       "\n",
       "    .dataframe tbody tr th {\n",
       "        vertical-align: top;\n",
       "    }\n",
       "\n",
       "    .dataframe thead th {\n",
       "        text-align: right;\n",
       "    }\n",
       "</style>\n",
       "<table border=\"1\" class=\"dataframe\">\n",
       "  <thead>\n",
       "    <tr style=\"text-align: right;\">\n",
       "      <th></th>\n",
       "      <th>sl_no</th>\n",
       "      <th>ssc_p</th>\n",
       "      <th>hsc_p</th>\n",
       "      <th>degree_p</th>\n",
       "      <th>etest_p</th>\n",
       "      <th>mba_p</th>\n",
       "      <th>salary</th>\n",
       "    </tr>\n",
       "  </thead>\n",
       "  <tbody>\n",
       "    <tr>\n",
       "      <th>mean</th>\n",
       "      <td>108.0</td>\n",
       "      <td>67.303395</td>\n",
       "      <td>66.333163</td>\n",
       "      <td>66.370186</td>\n",
       "      <td>72.100558</td>\n",
       "      <td>62.278186</td>\n",
       "      <td>288655.405405</td>\n",
       "    </tr>\n",
       "    <tr>\n",
       "      <th>median</th>\n",
       "      <td>108.0</td>\n",
       "      <td>67.0</td>\n",
       "      <td>65.0</td>\n",
       "      <td>66.0</td>\n",
       "      <td>71.0</td>\n",
       "      <td>62.0</td>\n",
       "      <td>265000.0</td>\n",
       "    </tr>\n",
       "    <tr>\n",
       "      <th>mode</th>\n",
       "      <td>1</td>\n",
       "      <td>62.0</td>\n",
       "      <td>63.0</td>\n",
       "      <td>65.0</td>\n",
       "      <td>60.0</td>\n",
       "      <td>56.7</td>\n",
       "      <td>300000.0</td>\n",
       "    </tr>\n",
       "    <tr>\n",
       "      <th>Q1:25%</th>\n",
       "      <td>54.5</td>\n",
       "      <td>60.6</td>\n",
       "      <td>60.9</td>\n",
       "      <td>61.0</td>\n",
       "      <td>60.0</td>\n",
       "      <td>57.945</td>\n",
       "      <td>240000.0</td>\n",
       "    </tr>\n",
       "    <tr>\n",
       "      <th>Q2:50%</th>\n",
       "      <td>108.0</td>\n",
       "      <td>67.0</td>\n",
       "      <td>65.0</td>\n",
       "      <td>66.0</td>\n",
       "      <td>71.0</td>\n",
       "      <td>62.0</td>\n",
       "      <td>265000.0</td>\n",
       "    </tr>\n",
       "    <tr>\n",
       "      <th>Q3:75%</th>\n",
       "      <td>161.5</td>\n",
       "      <td>75.7</td>\n",
       "      <td>73.0</td>\n",
       "      <td>72.0</td>\n",
       "      <td>83.5</td>\n",
       "      <td>66.255</td>\n",
       "      <td>300000.0</td>\n",
       "    </tr>\n",
       "    <tr>\n",
       "      <th>99%</th>\n",
       "      <td>212.86</td>\n",
       "      <td>87.0</td>\n",
       "      <td>91.86</td>\n",
       "      <td>83.86</td>\n",
       "      <td>97.0</td>\n",
       "      <td>76.1142</td>\n",
       "      <td>NaN</td>\n",
       "    </tr>\n",
       "    <tr>\n",
       "      <th>Q4:100%</th>\n",
       "      <td>215.0</td>\n",
       "      <td>89.4</td>\n",
       "      <td>97.7</td>\n",
       "      <td>91.0</td>\n",
       "      <td>98.0</td>\n",
       "      <td>77.89</td>\n",
       "      <td>940000.0</td>\n",
       "    </tr>\n",
       "    <tr>\n",
       "      <th>IQR</th>\n",
       "      <td>107.0</td>\n",
       "      <td>15.1</td>\n",
       "      <td>12.1</td>\n",
       "      <td>11.0</td>\n",
       "      <td>23.5</td>\n",
       "      <td>8.31</td>\n",
       "      <td>60000.0</td>\n",
       "    </tr>\n",
       "    <tr>\n",
       "      <th>1.5rule</th>\n",
       "      <td>160.5</td>\n",
       "      <td>22.65</td>\n",
       "      <td>18.15</td>\n",
       "      <td>16.5</td>\n",
       "      <td>35.25</td>\n",
       "      <td>12.465</td>\n",
       "      <td>90000.0</td>\n",
       "    </tr>\n",
       "    <tr>\n",
       "      <th>lesser</th>\n",
       "      <td>-106.0</td>\n",
       "      <td>37.95</td>\n",
       "      <td>42.75</td>\n",
       "      <td>44.5</td>\n",
       "      <td>24.75</td>\n",
       "      <td>45.48</td>\n",
       "      <td>150000.0</td>\n",
       "    </tr>\n",
       "    <tr>\n",
       "      <th>greater</th>\n",
       "      <td>322.0</td>\n",
       "      <td>98.35</td>\n",
       "      <td>91.15</td>\n",
       "      <td>88.5</td>\n",
       "      <td>118.75</td>\n",
       "      <td>78.72</td>\n",
       "      <td>390000.0</td>\n",
       "    </tr>\n",
       "    <tr>\n",
       "      <th>min</th>\n",
       "      <td>1</td>\n",
       "      <td>40.89</td>\n",
       "      <td>37.0</td>\n",
       "      <td>50.0</td>\n",
       "      <td>50.0</td>\n",
       "      <td>51.21</td>\n",
       "      <td>200000.0</td>\n",
       "    </tr>\n",
       "    <tr>\n",
       "      <th>max</th>\n",
       "      <td>215</td>\n",
       "      <td>89.4</td>\n",
       "      <td>97.7</td>\n",
       "      <td>91.0</td>\n",
       "      <td>98.0</td>\n",
       "      <td>77.89</td>\n",
       "      <td>940000.0</td>\n",
       "    </tr>\n",
       "  </tbody>\n",
       "</table>\n",
       "</div>"
      ],
      "text/plain": [
       "          sl_no      ssc_p      hsc_p   degree_p    etest_p      mba_p  \\\n",
       "mean      108.0  67.303395  66.333163  66.370186  72.100558  62.278186   \n",
       "median    108.0       67.0       65.0       66.0       71.0       62.0   \n",
       "mode          1       62.0       63.0       65.0       60.0       56.7   \n",
       "Q1:25%     54.5       60.6       60.9       61.0       60.0     57.945   \n",
       "Q2:50%    108.0       67.0       65.0       66.0       71.0       62.0   \n",
       "Q3:75%    161.5       75.7       73.0       72.0       83.5     66.255   \n",
       "99%      212.86       87.0      91.86      83.86       97.0    76.1142   \n",
       "Q4:100%   215.0       89.4       97.7       91.0       98.0      77.89   \n",
       "IQR       107.0       15.1       12.1       11.0       23.5       8.31   \n",
       "1.5rule   160.5      22.65      18.15       16.5      35.25     12.465   \n",
       "lesser   -106.0      37.95      42.75       44.5      24.75      45.48   \n",
       "greater   322.0      98.35      91.15       88.5     118.75      78.72   \n",
       "min           1      40.89       37.0       50.0       50.0      51.21   \n",
       "max         215       89.4       97.7       91.0       98.0      77.89   \n",
       "\n",
       "                salary  \n",
       "mean     288655.405405  \n",
       "median        265000.0  \n",
       "mode          300000.0  \n",
       "Q1:25%        240000.0  \n",
       "Q2:50%        265000.0  \n",
       "Q3:75%        300000.0  \n",
       "99%                NaN  \n",
       "Q4:100%       940000.0  \n",
       "IQR            60000.0  \n",
       "1.5rule        90000.0  \n",
       "lesser        150000.0  \n",
       "greater       390000.0  \n",
       "min           200000.0  \n",
       "max           940000.0  "
      ]
     },
     "execution_count": 7,
     "metadata": {},
     "output_type": "execute_result"
    }
   ],
   "source": [
    "univariate.tableDescripe(dataset,quan)"
   ]
  },
  {
   "cell_type": "code",
   "execution_count": 8,
   "id": "f72c7537-a839-4d52-9add-04aa32078b81",
   "metadata": {},
   "outputs": [],
   "source": [
    "lesser,greater=univariate.outliers(quan,univariate.tableDescripe(dataset,quan))"
   ]
  },
  {
   "cell_type": "code",
   "execution_count": 9,
   "id": "9954c08f-0ec5-46a7-a59a-27e93650129e",
   "metadata": {},
   "outputs": [
    {
     "data": {
      "text/plain": [
       "['hsc_p']"
      ]
     },
     "execution_count": 9,
     "metadata": {},
     "output_type": "execute_result"
    }
   ],
   "source": [
    "lesser"
   ]
  },
  {
   "cell_type": "code",
   "execution_count": 10,
   "id": "5b9ddbbf-2742-4aff-b970-36779448d69d",
   "metadata": {},
   "outputs": [
    {
     "data": {
      "text/plain": [
       "['hsc_p', 'degree_p', 'salary']"
      ]
     },
     "execution_count": 10,
     "metadata": {},
     "output_type": "execute_result"
    }
   ],
   "source": [
    "greater"
   ]
  },
  {
   "cell_type": "code",
   "execution_count": 13,
   "id": "b4ab1ad2-2d0d-4353-a137-e48c693d3822",
   "metadata": {},
   "outputs": [],
   "source": [
    "univariate.outliers_replace(lesser,greater,dataset,univariate.tableDescripe(dataset,quan))"
   ]
  },
  {
   "cell_type": "code",
   "execution_count": 14,
   "id": "1596e29a-ad52-41b1-a02d-6545f674d803",
   "metadata": {},
   "outputs": [],
   "source": [
    "aLesser,aGreater=univariate.outliers(quan,univariate.tableDescripe(dataset,quan))"
   ]
  },
  {
   "cell_type": "code",
   "execution_count": 15,
   "id": "18c31548-628a-45f3-82ba-eff4e40e7824",
   "metadata": {},
   "outputs": [
    {
     "data": {
      "text/plain": [
       "[]"
      ]
     },
     "execution_count": 15,
     "metadata": {},
     "output_type": "execute_result"
    }
   ],
   "source": [
    "aLesser"
   ]
  },
  {
   "cell_type": "code",
   "execution_count": 16,
   "id": "bd067b42-0dd8-4c85-95b4-e613eb3b9150",
   "metadata": {},
   "outputs": [
    {
     "data": {
      "text/plain": [
       "[]"
      ]
     },
     "execution_count": 16,
     "metadata": {},
     "output_type": "execute_result"
    }
   ],
   "source": [
    "aGreater"
   ]
  },
  {
   "cell_type": "code",
   "execution_count": null,
   "id": "91ad2485-d778-4329-b673-1c9fdc22281f",
   "metadata": {},
   "outputs": [],
   "source": []
  }
 ],
 "metadata": {
  "kernelspec": {
   "display_name": "Python 3 (ipykernel)",
   "language": "python",
   "name": "python3"
  },
  "language_info": {
   "codemirror_mode": {
    "name": "ipython",
    "version": 3
   },
   "file_extension": ".py",
   "mimetype": "text/x-python",
   "name": "python",
   "nbconvert_exporter": "python",
   "pygments_lexer": "ipython3",
   "version": "3.12.7"
  }
 },
 "nbformat": 4,
 "nbformat_minor": 5
}
